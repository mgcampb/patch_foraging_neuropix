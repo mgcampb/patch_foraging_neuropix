{
 "cells": [
  {
   "cell_type": "code",
   "execution_count": 1,
   "metadata": {},
   "outputs": [],
   "source": [
    "from __future__ import division\n",
    "import sys, os\n",
    "import time, datetime\n",
    "import numpy as np\n",
    "import matplotlib.pyplot as plt\n",
    "import matplotlib.gridspec as gridspec\n",
    "import seaborn as sns\n",
    "from ripser import ripser as tda\n",
    "\n",
    "sd=int((time.time()%1)*(2**31))\n",
    "np.random.seed(sd)\n",
    "curr_date=datetime.datetime.now().strftime('%Y_%m_%d')+'_'\n",
    "\n",
    "gen_fn_dir = os.path.abspath('.') + '/shared_scripts'\n",
    "sys.path.append(gen_fn_dir)\n",
    "\n",
    "from dim_red_fns import run_dim_red\n",
    "from os.path import join as pjoin\n",
    "from scipy.spatial.distance import pdist\n",
    "from sklearn import neighbors\n",
    "from scipy.io import loadmat\n",
    "\n",
    "# imports for spud_interactive_fit\n",
    "from mpl_toolkits.mplot3d import Axes3D\n",
    "# from sklearn import decomposition, manifold\n",
    "import manifold_fit_and_decode_fns as mff\n",
    "import fit_helper_fns as fhf\n",
    "from dim_red_fns import run_dim_red # from shared_scripts\n"
   ]
  },
  {
   "cell_type": "code",
   "execution_count": 2,
   "metadata": {},
   "outputs": [],
   "source": [
    "# Functions \n",
    "def plot_barcode(results):\n",
    "    \"\"\"\n",
    "        Plot betti barcode results\n",
    "    \"\"\"\n",
    "    col_list = ['r', 'g', 'm', 'c']\n",
    "    h0, h1, h2 = results['h0'], results['h1'], results['h2']\n",
    "    # replace the infinity bar (-1) in H0 by a really large number\n",
    "    h0[~np.isfinite(h0)] = 100\n",
    "    # Plot the longest barcodes only\n",
    "    plot_prcnt = [99, 98, 90] # order is h0, h1, h2\n",
    "    to_plot = []\n",
    "    for curr_h, cutoff in zip([h0, h1, h2], plot_prcnt):\n",
    "         bar_lens = curr_h[:,1] - curr_h[:,0]\n",
    "         plot_h = curr_h[bar_lens > np.percentile(bar_lens, cutoff)]\n",
    "         to_plot.append(plot_h)\n",
    "\n",
    "    fig = plt.figure(figsize=(10, 8))\n",
    "    gs = gridspec.GridSpec(3, 4)\n",
    "    for curr_betti, curr_bar in enumerate(to_plot):\n",
    "        ax = fig.add_subplot(gs[curr_betti, :])\n",
    "        for i, interval in enumerate(reversed(curr_bar)):\n",
    "            ax.plot([interval[0], interval[1]], [i, i], color=col_list[curr_betti],\n",
    "                lw=1.5)\n",
    "        # ax.set_xlim([0, xlim])\n",
    "        # ax.set_xticks([0, xlim])\n",
    "        ax.set_ylim([-1, len(curr_bar)])\n",
    "        # ax.set_yticks([])\n",
    "    plt.show()"
   ]
  },
  {
   "cell_type": "code",
   "execution_count": 3,
   "metadata": {},
   "outputs": [],
   "source": [
    "# path names\n",
    "data_path = '/Users/joshstern/Documents/UchidaLab_NeuralData/patch_foraging_neuropix/josh/manifolds/spud_code/data'\n",
    "m80_datapath = pjoin(data_path,'m80.mat')\n"
   ]
  },
  {
   "cell_type": "code",
   "execution_count": 4,
   "metadata": {},
   "outputs": [],
   "source": [
    "# Load data.. eventually need X and var_to_decode\n",
    "visualization = False\n",
    "m80data = loadmat(m80_datapath)    \n",
    "fr_mat = m80data['m80_fr']\n",
    "score = m80data['m80_pca']\n",
    "time_on_patch = m80data['m80_time']\n",
    "tts = m80data['m80_tts']\n",
    "zscored_prt = m80data['m80_zscored_prt']\n",
    "\n",
    "if visualization == True:\n",
    "    %matplotlib notebook\n",
    "    fig = plt.figure(figsize=(9,9))\n",
    "    ax = fig.add_subplot(111, projection='3d')\n",
    "    ax.scatter(X[0,::2],X[1,::2],X[2,::2], c ='r', s=.01)\n",
    "    plt.show()\n",
    "\n",
    "# which data to use in form [n_cells n_timepoints]\n",
    "X = score.T\n",
    "\n",
    "# define variable to decode\n",
    "var_to_decode = time_on_patch\n",
    "    "
   ]
  },
  {
   "cell_type": "code",
   "execution_count": null,
   "metadata": {},
   "outputs": [
    {
     "name": "stdout",
     "output_type": "stream",
     "text": [
      "Finished Calculating Distance Matrix\n"
     ]
    }
   ],
   "source": [
    "# Note that we have already performed dimensionality reduction\n",
    "# 2) Threshold out outlier points with low neighborhood density\n",
    "# this step improves robustness to noise\n",
    "# this is called nt-TDA\n",
    "thrsh = True\n",
    "thrsh_prcnt = 20\n",
    "neigh_percentile = 0.01\n",
    "if thrsh:\n",
    "    # a) find number of neighbors of each point within radius of kth percentile of all\n",
    "    # we decrease this to make this easier\n",
    "    # pairwise dist.\n",
    "    dist = pdist(X, 'euclidean')\n",
    "    print(\"Finished Calculating Distance Matrix\")\n",
    "    rad = np.percentile(dist, neigh_percentile) \n",
    "    del dist\n",
    "    neigh = neighbors.NearestNeighbors()\n",
    "    neigh.fit(X)\n",
    "    print(\"Finished Calculating Nearest Neighbors\")\n",
    "    num_nbrs = np.array(list(map(len, neigh.radius_neighbors(X=X, radius=rad,return_distance=False))))\n",
    "    del neigh\n",
    "    print(\"Finished Calculating Num Nearest Neighbors\")\n",
    "    \n",
    "    # b) threshold out points with low density\n",
    "    threshold = np.percentile(num_nbrs, thrsh_prcnt)\n",
    "    X_thresholded = X[num_nbrs > threshold]"
   ]
  },
  {
   "cell_type": "code",
   "execution_count": null,
   "metadata": {},
   "outputs": [],
   "source": [
    "# Visualize what happens when we apply thresholding\n",
    "%matplotlib notebook\n",
    "plt.figure()\n",
    "fig = plt.figure(figsize=(9,9))\n",
    "ax1 = fig.add_subplot(121, projection='3d')\n",
    "ax1.scatter(X[0,::2],X[1,::2],X[2,::2], s=.01)\n",
    "\n",
    "ax1 = fig.add_subplot(122, projection='3d')\n",
    "ax1.scatter(X[0,::2],X[1,::2],X[2,::2], s=.01)\n",
    "plt.show()"
   ]
  },
  {
   "cell_type": "code",
   "execution_count": null,
   "metadata": {},
   "outputs": [],
   "source": [
    "# 3) Inspect Betti barcode \n",
    "# H0 & H1\n",
    "H1_X = X_reduced_thresholded\n",
    "barcodes = tda(H1_X, maxdim=1, coeff=2)['dgms']\n",
    "results['h0'] = barcodes[0]\n",
    "results['h1'] = barcodes[1]\n",
    "\n",
    "# H2. Need to subsample points for computational tractability if\n",
    "# number of points is large (can go higher but very slow)\n",
    "if len(X_reduced_thresholded) > 1500:\n",
    "    idx = np.random.choice(np.arange(len(rates)), 1500, replace=False)\n",
    "    H2_X = X_reduced_thresholded[idx]\n",
    "else:\n",
    "    H2_X = X_reduced_thresholded\n",
    "\n",
    "barcodes = tda(H2_X, maxdim=2, coeff=2)['dgms']\n",
    "results['h2'] = barcodes[2]"
   ]
  },
  {
   "cell_type": "code",
   "execution_count": null,
   "metadata": {},
   "outputs": [],
   "source": [
    "# Visualize betti barcode\n",
    "visualization = True\n",
    "if visualization == True:\n",
    "    plot_barcode(results)"
   ]
  }
 ],
 "metadata": {
  "@webio": {
   "lastCommId": null,
   "lastKernelId": null
  },
  "kernelspec": {
   "display_name": "Python 3",
   "language": "python",
   "name": "python3"
  },
  "language_info": {
   "codemirror_mode": {
    "name": "ipython",
    "version": 3
   },
   "file_extension": ".py",
   "mimetype": "text/x-python",
   "name": "python",
   "nbconvert_exporter": "python",
   "pygments_lexer": "ipython3",
   "version": "3.8.0"
  }
 },
 "nbformat": 4,
 "nbformat_minor": 4
}
