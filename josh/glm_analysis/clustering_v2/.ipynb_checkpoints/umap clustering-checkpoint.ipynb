{
 "cells": [
  {
   "cell_type": "code",
   "execution_count": 6,
   "id": "dc89601f-6c94-411b-b602-c7da4eb70a83",
   "metadata": {},
   "outputs": [],
   "source": [
    "import numpy as np\n",
    "from sklearn.datasets import load_digits\n",
    "from sklearn.model_selection import train_test_split\n",
    "from sklearn.preprocessing import StandardScaler\n",
    "import matplotlib.pyplot as plt\n",
    "import seaborn as sns\n",
    "import pandas as pd\n",
    "import umap\n",
    "%matplotlib inline\n",
    "sns.set(style='white', context='notebook', rc={'figure.figsize':(14,10)})\n"
   ]
  },
  {
   "cell_type": "code",
   "execution_count": 7,
   "id": "b94b816e-fa71-4bb1-84fa-4581ea6cb775",
   "metadata": {},
   "outputs": [
    {
     "data": {
      "text/plain": [
       "umap.umap_.UMAP"
      ]
     },
     "execution_count": 7,
     "metadata": {},
     "output_type": "execute_result"
    }
   ],
   "source": [
    "umap.UMAP"
   ]
  },
  {
   "cell_type": "code",
   "execution_count": null,
   "id": "1bcbc63d-6d73-47d0-b951-4ff9afd53dff",
   "metadata": {},
   "outputs": [],
   "source": []
  }
 ],
 "metadata": {
  "kernelspec": {
   "display_name": "Python 3 (ipykernel)",
   "language": "python",
   "name": "python3"
  },
  "language_info": {
   "codemirror_mode": {
    "name": "ipython",
    "version": 3
   },
   "file_extension": ".py",
   "mimetype": "text/x-python",
   "name": "python",
   "nbconvert_exporter": "python",
   "pygments_lexer": "ipython3",
   "version": "3.9.7"
  }
 },
 "nbformat": 4,
 "nbformat_minor": 5
}
