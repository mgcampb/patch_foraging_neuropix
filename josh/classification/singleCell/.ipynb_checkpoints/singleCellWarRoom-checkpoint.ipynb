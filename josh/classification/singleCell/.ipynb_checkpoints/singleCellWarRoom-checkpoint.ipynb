{
 "cells": [
  {
   "cell_type": "code",
   "execution_count": 27,
   "metadata": {},
   "outputs": [],
   "source": [
    "import numpy as np \n",
    "import scipy.io as sio  \n",
    "import os\n",
    "import matplotlib.pyplot as plt \n",
    "import seaborn as sns  \n",
    "from scipy.ndimage import gaussian_filter\n",
    "\n",
    "# import smoothing # calcFRvsTime"
   ]
  },
  {
   "cell_type": "markdown",
   "metadata": {},
   "source": [
    "## 0) Functions"
   ]
  },
  {
   "cell_type": "code",
   "execution_count": 38,
   "metadata": {},
   "outputs": [],
   "source": [
    "def calcFRVsTime(cell_id,st,clu,opt = None):\n",
    "    \"\"\"\n",
    "        Function to convert cell spike times into smoothed signal\n",
    "\n",
    "        Arguments:\n",
    "            cell_id: numpy array of cell ids to extract\n",
    "            dat: dictionary loaded from processed neuropix struct\n",
    "            opt: options for smoothing etc\n",
    "\n",
    "    \"\"\"\n",
    "    if not opt:\n",
    "        opt = dict(tbin =  0.02,\n",
    "                   tstart = 0,\n",
    "                   tend = np.max(st),\n",
    "                   smoothSigma_time = 0.1)\n",
    "\n",
    "    tbinedge = np.arange(opt['tstart'],opt['tend'],opt['tbin'])\n",
    "    tbincent = tbinedge[:-1] + opt[\"tbin\"] / 2\n",
    "\n",
    "    # firing rate matrix\n",
    "    fr = np.empty((len(cell_id),len(tbinedge)-1)) \n",
    "    fr[:] = np.nan\n",
    "\n",
    "    for i, this_cell_id in enumerate(cell_id):\n",
    "        # get spike times for this cell\n",
    "        spike_t = st[clu == this_cell_id];\n",
    "        spike_t = spike_t[(spike_t >= opt['tstart']) & (spike_t <= opt['tend'])];\n",
    "\n",
    "        # compute distance-binned firing rate\n",
    "        fr_this,edges = np.histogram(spike_t,bins = tbinedge)\n",
    "        fr_this = fr_this / opt['tbin']\n",
    "\n",
    "        # smooth firing rate\n",
    "        fr_this = gaussian_filter(fr_this,sigma = opt['smoothSigma_time']/opt['tbin']);\n",
    "\n",
    "        if len(np.where(np.isnan(fr_this))[0]) > 0:\n",
    "            raise ValueError(\"NaN in firing rate\")\n",
    "        fr[i,:] = fr_this;\n",
    "\n",
    "    return fr,tbincent"
   ]
  },
  {
   "cell_type": "code",
   "execution_count": null,
   "metadata": {},
   "outputs": [],
   "source": [
    "mouse_dir = '/Users/joshstern/Documents/UchidaLab_NeuralData/processed_neuropix_data/80'   \n",
    "data = dict()  \n",
    "calcFR_opt = dict(tbin =  0.02,\n",
    "                  tstart = 0,\n",
    "                  smoothSigma_time = 0.1)  \n",
    "tbin_ms = calcFR_opt['tbin'] * 1000\n",
    "\n",
    "with os.scandir(mouse_dir) as it:\n",
    "    for entry in it:\n",
    "        if not entry.name.startswith('.') and entry.is_file():  \n",
    "            # load in struct\n",
    "            day_key = entry.name[:2] + entry.name[-7:-4]\n",
    "            data[day_key] = sio.loadmat(entry.path)  \n",
    "            \n",
    "            # smooth firing rates \n",
    "            cgs = data[day_key]['sp']['cgs'][0][0] \n",
    "            cids = data[day_key]['sp']['cids'][0][0]\n",
    "            good_cells = cids[cgs == 2]  \n",
    "            st = data[day_key]['sp']['st'][0][0]  \n",
    "            calcFR_opt['tend'] = np.max(st)\n",
    "            clu = data[day_key]['sp']['clu'][0][0] \n",
    "            data[day_key]['fr_mat_full'],tbincent = calcFRVsTime(good_cells,st,clu,opt = calcFR_opt) \n",
    "            \n",
    "            print(\"Finished loading %s\"%entry.name)"
   ]
  },
  {
   "cell_type": "code",
   "execution_count": 43,
   "metadata": {},
   "outputs": [
    {
     "data": {
      "text/plain": [
       "(504, 121491)"
      ]
     },
     "execution_count": 43,
     "metadata": {},
     "output_type": "execute_result"
    }
   ],
   "source": [
    "data[day_key]['fr_mat_full'][0].shape"
   ]
  },
  {
   "cell_type": "code",
   "execution_count": null,
   "metadata": {},
   "outputs": [],
   "source": []
  }
 ],
 "metadata": {
  "@webio": {
   "lastCommId": null,
   "lastKernelId": null
  },
  "kernelspec": {
   "display_name": "Python 3",
   "language": "python",
   "name": "python3"
  },
  "language_info": {
   "codemirror_mode": {
    "name": "ipython",
    "version": 3
   },
   "file_extension": ".py",
   "mimetype": "text/x-python",
   "name": "python",
   "nbconvert_exporter": "python",
   "pygments_lexer": "ipython3",
   "version": "3.8.0"
  }
 },
 "nbformat": 4,
 "nbformat_minor": 4
}
