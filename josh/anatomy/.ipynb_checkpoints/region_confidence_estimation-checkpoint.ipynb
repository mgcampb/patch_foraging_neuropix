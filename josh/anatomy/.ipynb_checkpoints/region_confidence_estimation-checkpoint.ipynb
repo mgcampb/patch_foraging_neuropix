{
 "cells": [
  {
   "cell_type": "markdown",
   "id": "1b184331-bd80-4d9e-98bb-c3fb4117c731",
   "metadata": {},
   "source": [
    "## Extract cell locations and region confidence "
   ]
  },
  {
   "cell_type": "code",
   "execution_count": 2,
   "id": "ea0c2bb3-3b84-4cc5-a127-6d06b58e9061",
   "metadata": {},
   "outputs": [],
   "source": [
    "from scipy.io import loadmat\n",
    "import os\n",
    "import pandas as pd\n",
    "\n",
    "import ibllib.atlas as atlas\n",
    "import numpy as np\n",
    "\n",
    "from anatomy_utils import *\n",
    "\n",
    "# resolution of Allen CCF atlas\n",
    "res = 25\n",
    "brain_atlas = atlas.AllenAtlas(res)"
   ]
  },
  {
   "cell_type": "code",
   "execution_count": 3,
   "id": "2adec7d1-a64c-4f13-a26d-8fcf37a96969",
   "metadata": {},
   "outputs": [],
   "source": [
    "# path to anatomy3d csvs\n",
    "anatomy3d_path = r'D:\\patchforaging_data\\anatomy3d'"
   ]
  },
  {
   "cell_type": "code",
   "execution_count": 64,
   "id": "4d40aab4-347e-4a78-afa1-eae6ee57875a",
   "metadata": {},
   "outputs": [],
   "source": [
    "ccf_coords_list = []\n",
    "for session_anatomy_path in os.listdir(anatomy3d_path): \n",
    "    coords = pd.read_csv(os.path.join(anatomy3d_path,session_anatomy_path))\n",
    "    ccf_coords_list.append(coords[['AP','DV','ML']].values.astype('float64'))\n",
    "ccf_coords = np.concatenate(ccf_coords_list)"
   ]
  },
  {
   "cell_type": "code",
   "execution_count": 69,
   "id": "1d19fbf8-c135-458a-9917-a646e1ef0df1",
   "metadata": {},
   "outputs": [],
   "source": [
    "bregma_ccf_loc = np.array([5400, 332, 5739])\n",
    "allen_structure_tree_path = r'C:\\Users\\joshs\\Documents\\int-brain-lab\\IBL-pipeline\\allen_structure_tree.csv'\n",
    "allen = pd.read_csv(allen_structure_tree_path)\n",
    "\n",
    "xyz_coords = brain_atlas.ccf2xyz(ccf_coords, ccf_order='apdvml')\n",
    "nearest_bound_results6 = get_nearest_boundary(xyz_coords, allen,brain_atlas = brain_atlas,depth = 6)\n",
    "nearest_bound_results7 = get_nearest_boundary(xyz_coords, allen,brain_atlas = brain_atlas,depth = 7)"
   ]
  },
  {
   "cell_type": "code",
   "execution_count": 70,
   "id": "92654295-8fd0-4416-95df-590a057bf0a1",
   "metadata": {},
   "outputs": [
    {
     "data": {
      "text/plain": [
       "array(['Olfactory areas', 'Taenia tecta', 'Infralimbic area',\n",
       "       'Prelimbic area', 'Cortical plate', 'Orbital area medial part',\n",
       "       'Striatum ventral region', 'Lateral septal nucleus',\n",
       "       'Cerebral nuclei', 'Anterior cingulate area dorsal part',\n",
       "       'Pallidum ventral region', 'Orbital area ventrolateral part',\n",
       "       'corpus callosum', 'cerebrum related', 'Secondary motor area',\n",
       "       'Anterior cingulate area ventral part',\n",
       "       'Orbital area lateral part'], dtype=object)"
      ]
     },
     "execution_count": 70,
     "metadata": {},
     "output_type": "execute_result"
    }
   ],
   "source": [
    "id_allen = allen.set_index('id')\n",
    "id_allen.loc[nearest_bound_results['parent_depth7_id']]['name'].unique()"
   ]
  },
  {
   "cell_type": "code",
   "execution_count": 83,
   "id": "6658ca71-d4d6-416f-8007-c9bffbce2f52",
   "metadata": {},
   "outputs": [
    {
     "name": "stderr",
     "output_type": "stream",
     "text": [
      "C:\\Users\\joshs\\anaconda3\\envs\\iblenv\\lib\\site-packages\\seaborn\\distributions.py:2619: FutureWarning: `distplot` is a deprecated function and will be removed in a future version. Please adapt your code to use either `displot` (a figure-level function with similar flexibility) or `histplot` (an axes-level function for histograms).\n",
      "  warnings.warn(msg, FutureWarning)\n",
      "C:\\Users\\joshs\\anaconda3\\envs\\iblenv\\lib\\site-packages\\seaborn\\distributions.py:2619: FutureWarning: `distplot` is a deprecated function and will be removed in a future version. Please adapt your code to use either `displot` (a figure-level function with similar flexibility) or `histplot` (an axes-level function for histograms).\n",
      "  warnings.warn(msg, FutureWarning)\n",
      "C:\\Users\\joshs\\anaconda3\\envs\\iblenv\\lib\\site-packages\\seaborn\\distributions.py:2619: FutureWarning: `distplot` is a deprecated function and will be removed in a future version. Please adapt your code to use either `displot` (a figure-level function with similar flexibility) or `histplot` (an axes-level function for histograms).\n",
      "  warnings.warn(msg, FutureWarning)\n"
     ]
    },
    {
     "data": {
      "text/plain": [
       "Text(0.5, 0, 'Distance to nearest boundary')"
      ]
     },
     "execution_count": 83,
     "metadata": {},
     "output_type": "execute_result"
    },
    {
     "data": {
      "image/png": "[encoded data removed]",
      "text/plain": [
       "<Figure size 432x288 with 1 Axes>"
      ]
     },
     "metadata": {
      "needs_background": "light"
     },
     "output_type": "display_data"
    }
   ],
   "source": [
    "from matplotlib import pyplot as plt\n",
    "import seaborn as sns\n",
    "nearest_bound_df = pd.DataFrame(nearest_bound_results)\n",
    "\n",
    "sns.distplot(nearest_bound_results['dist'],bins = 15)\n",
    "sns.distplot(nearest_bound_results7['parent_depth7_dist'],bins = 15)\n",
    "sns.distplot(nearest_bound_results6['parent_depth6_dist'],bins = 15)\n",
    "\n",
    "plt.legend([\"dist\",\"depth7 dist\",\"depth6 dist\"])\n",
    "plt.xlabel(\"Distance to nearest boundary\")"
   ]
  },
  {
   "cell_type": "code",
   "execution_count": 100,
   "id": "e03e1a5d-4223-46b8-9488-fe6b14f68450",
   "metadata": {},
   "outputs": [
    {
     "name": "stdout",
     "output_type": "stream",
     "text": [
      "# Cells with distance to nearest boundary increased by greater than 50 um:  966\n",
      "Original regions with confidence improvement greater than 50um:  ['Infralimbic area layer 5' 'Orbital area medial part layer 5'\n",
      " 'Prelimbic area layer 5' 'Orbital area ventrolateral part layer 2/3'\n",
      " 'Orbital area ventrolateral part layer 5'\n",
      " 'Orbital area ventrolateral part layer 6a'\n",
      " 'Orbital area medial part layer 6a' 'Prelimbic area layer 6a'\n",
      " 'Anterior cingulate area dorsal part layer 6a'\n",
      " 'Secondary motor area layer 5' 'Secondary motor area layer 2/3'\n",
      " 'Anterior cingulate area dorsal part layer 5'\n",
      " 'Secondary motor area layer 1' 'Orbital area lateral part layer 6a'\n",
      " 'Secondary motor area layer 6a' 'Infralimbic area layer 6a'\n",
      " 'Anterior olfactory nucleus' 'Orbital area lateral part layer 5']\n",
      "Larger regions with confidence improvement greater than 50um:  ['Infralimbic area' 'Orbital area' 'Prelimbic area'\n",
      " 'Anterior cingulate area' 'Somatomotor areas' 'Olfactory areas']\n"
     ]
    }
   ],
   "source": [
    "id_allen = allen.set_index('id')\n",
    "improvements = nearest_bound_results6['parent_depth6_dist'] - nearest_bound_results6['dist'] > 50\n",
    "print(\"# Cells with distance to nearest boundary increased by greater than 50 um: \",len(np.where(improvements)[0]))\n",
    "print(\"Original regions with confidence improvement greater than 50um: \",id_allen.loc[nearest_bound_results6['id'][improvements]]['name'].unique())\n",
    "print(\"Larger regions with confidence improvement greater than 50um: \",id_allen.loc[nearest_bound_results6['parent_depth6_id'][improvements]]['name'].unique())"
   ]
  },
  {
   "cell_type": "code",
   "execution_count": null,
   "id": "3c4d0286-3f5d-4190-affb-24d479c46d7f",
   "metadata": {},
   "outputs": [],
   "source": []
  }
 ],
 "metadata": {
  "kernelspec": {
   "display_name": "Python [conda env:iblenv] *",
   "language": "python",
   "name": "conda-env-iblenv-py"
  },
  "language_info": {
   "codemirror_mode": {
    "name": "ipython",
    "version": 3
   },
   "file_extension": ".py",
   "mimetype": "text/x-python",
   "name": "python",
   "nbconvert_exporter": "python",
   "pygments_lexer": "ipython3",
   "version": "3.9.10"
  }
 },
 "nbformat": 4,
 "nbformat_minor": 5
}
